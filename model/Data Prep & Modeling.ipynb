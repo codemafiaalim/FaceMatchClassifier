{
 "cells": [
  {
   "cell_type": "code",
   "execution_count": 1,
   "metadata": {},
   "outputs": [],
   "source": [
    "import numpy as np\n",
    "import cv2\n",
    "import matplotlib\n",
    "from matplotlib import pyplot as plt\n",
    "import pywt\n",
    "from sklearn.model_selection import cross_val_score\n",
    "%matplotlib inline"
   ]
  },
  {
   "cell_type": "markdown",
   "metadata": {},
   "source": [
    "# Data Preprocessing"
   ]
  },
  {
   "cell_type": "code",
   "execution_count": 2,
   "metadata": {},
   "outputs": [],
   "source": [
    "face_cascade = cv2.CascadeClassifier('opencv/haarcascade_frontalface_default.xml')\n",
    "eye_cascade = cv2.CascadeClassifier('opencv/haarcascade_eye.xml')\n"
   ]
  },
  {
   "cell_type": "code",
   "execution_count": 3,
   "metadata": {},
   "outputs": [],
   "source": [
    "def crop_img_2eye(img_path):\n",
    "    img = cv2.imread(img_path)\n",
    "    gray = cv2.cvtColor(img,cv2.COLOR_BGR2GRAY)\n",
    "    faces = face_cascade.detectMultiScale(gray, 1.3, 5)\n",
    "    for (x,y,w,h) in faces:\n",
    "        img = cv2.rectangle(img,(x,y),(x+w,y+h),(255,255,255),2)\n",
    "        roi_gray = gray[y:y+h, x:x+w]\n",
    "        roi_color = img[y:y+h, x:x+w]\n",
    "        eyes = eye_cascade.detectMultiScale(roi_gray)\n",
    "        if len(eyes) >=2:\n",
    "            return roi_color\n",
    "            "
   ]
  },
  {
   "cell_type": "code",
   "execution_count": 4,
   "metadata": {},
   "outputs": [],
   "source": [
    "path_to_data = \"./data/\"\n",
    "path_to_cr_data = \"./data/cropped/\"\n",
    "\n",
    "\n",
    "import os\n",
    "img_dirs = []\n",
    "for entry in os.scandir(path_to_data):\n",
    "    if entry.is_dir():\n",
    "        img_dirs.append(entry.path)"
   ]
  },
  {
   "cell_type": "code",
   "execution_count": 5,
   "metadata": {},
   "outputs": [
    {
     "data": {
      "text/plain": [
       "['./data/Akshay',\n",
       " './data/cropped',\n",
       " './data/Depika',\n",
       " './data/kohli',\n",
       " './data/messi',\n",
       " './data/m_Sharapova',\n",
       " './data/Nora',\n",
       " './data/Ranbir',\n",
       " './data/Urvashi']"
      ]
     },
     "execution_count": 5,
     "metadata": {},
     "output_type": "execute_result"
    }
   ],
   "source": [
    "img_dirs"
   ]
  },
  {
   "cell_type": "code",
   "execution_count": 6,
   "metadata": {},
   "outputs": [],
   "source": [
    "\n",
    "import shutil\n",
    "if os.path.exists(path_to_cr_data):\n",
    "     shutil.rmtree(path_to_cr_data)\n",
    "os.mkdir(path_to_cr_data)\n",
    "\n"
   ]
  },
  {
   "cell_type": "code",
   "execution_count": 7,
   "metadata": {},
   "outputs": [
    {
     "name": "stdout",
     "output_type": "stream",
     "text": [
      "Generating cropped images in folder:  ./data/cropped/Akshay\n",
      "Generating cropped images in folder:  ./data/cropped/Depika\n",
      "Generating cropped images in folder:  ./data/cropped/kohli\n",
      "Generating cropped images in folder:  ./data/cropped/messi\n",
      "Generating cropped images in folder:  ./data/cropped/m_Sharapova\n",
      "Generating cropped images in folder:  ./data/cropped/Nora\n",
      "Generating cropped images in folder:  ./data/cropped/Ranbir\n",
      "Generating cropped images in folder:  ./data/cropped/Urvashi\n"
     ]
    }
   ],
   "source": [
    "\n",
    "cropped_image_dirs = []\n",
    "for img_dir in img_dirs:\n",
    "#     print(img_dir)\n",
    "    count = 1\n",
    "    celebrity_name = img_dir.split('/')[-1]\n",
    "    for entry in os.scandir(img_dir):\n",
    "#         print(entry.path)\n",
    "        try:\n",
    "            roi_color = crop_img_2eye(entry.path)\n",
    "        except:\n",
    "            continue\n",
    "        if roi_color is not None:\n",
    "            cropped_folder = path_to_cr_data + celebrity_name\n",
    "            if not os.path.exists(cropped_folder):\n",
    "                os.makedirs(cropped_folder)\n",
    "                cropped_image_dirs.append(cropped_folder)\n",
    "                print(\"Generating cropped images in folder: \",cropped_folder)\n",
    "            cropped_file_name = celebrity_name + str(count) + \".png\"\n",
    "            cropped_file_path = cropped_folder + \"/\" + cropped_file_name\n",
    "            cv2.imwrite(cropped_file_path, roi_color)\n",
    "            count += 1"
   ]
  },
  {
   "cell_type": "code",
   "execution_count": 8,
   "metadata": {
    "collapsed": true,
    "jupyter": {
     "outputs_hidden": true
    }
   },
   "outputs": [
    {
     "data": {
      "text/plain": [
       "{'Akshay': ['./data/cropped/Akshay\\\\Akshay Kumar10.png',\n",
       "  './data/cropped/Akshay\\\\Akshay Kumar13.png',\n",
       "  './data/cropped/Akshay\\\\Akshay Kumar15.png',\n",
       "  './data/cropped/Akshay\\\\Akshay Kumar17.png',\n",
       "  './data/cropped/Akshay\\\\Akshay Kumar18.png',\n",
       "  './data/cropped/Akshay\\\\Akshay Kumar19.png',\n",
       "  './data/cropped/Akshay\\\\Akshay Kumar2.png',\n",
       "  './data/cropped/Akshay\\\\Akshay Kumar20.png',\n",
       "  './data/cropped/Akshay\\\\Akshay Kumar21.png',\n",
       "  './data/cropped/Akshay\\\\Akshay Kumar22.png',\n",
       "  './data/cropped/Akshay\\\\Akshay Kumar23.png',\n",
       "  './data/cropped/Akshay\\\\Akshay Kumar24.png',\n",
       "  './data/cropped/Akshay\\\\Akshay Kumar25.png',\n",
       "  './data/cropped/Akshay\\\\Akshay Kumar26.png',\n",
       "  './data/cropped/Akshay\\\\Akshay Kumar27.png',\n",
       "  './data/cropped/Akshay\\\\Akshay Kumar28.png',\n",
       "  './data/cropped/Akshay\\\\Akshay Kumar29.png',\n",
       "  './data/cropped/Akshay\\\\Akshay Kumar3.png',\n",
       "  './data/cropped/Akshay\\\\Akshay Kumar30.png',\n",
       "  './data/cropped/Akshay\\\\Akshay Kumar31.png',\n",
       "  './data/cropped/Akshay\\\\Akshay Kumar32.png',\n",
       "  './data/cropped/Akshay\\\\Akshay Kumar33.png',\n",
       "  './data/cropped/Akshay\\\\Akshay Kumar34.png',\n",
       "  './data/cropped/Akshay\\\\Akshay Kumar35.png',\n",
       "  './data/cropped/Akshay\\\\Akshay Kumar36.png',\n",
       "  './data/cropped/Akshay\\\\Akshay Kumar37.png',\n",
       "  './data/cropped/Akshay\\\\Akshay Kumar38.png',\n",
       "  './data/cropped/Akshay\\\\Akshay Kumar39.png',\n",
       "  './data/cropped/Akshay\\\\Akshay Kumar4.png',\n",
       "  './data/cropped/Akshay\\\\Akshay Kumar41.png',\n",
       "  './data/cropped/Akshay\\\\Akshay Kumar42.png',\n",
       "  './data/cropped/Akshay\\\\Akshay Kumar43.png',\n",
       "  './data/cropped/Akshay\\\\Akshay Kumar44.png',\n",
       "  './data/cropped/Akshay\\\\Akshay Kumar45.png',\n",
       "  './data/cropped/Akshay\\\\Akshay Kumar46.png',\n",
       "  './data/cropped/Akshay\\\\Akshay Kumar47.png',\n",
       "  './data/cropped/Akshay\\\\Akshay Kumar48.png',\n",
       "  './data/cropped/Akshay\\\\Akshay Kumar49.png',\n",
       "  './data/cropped/Akshay\\\\Akshay Kumar5.png',\n",
       "  './data/cropped/Akshay\\\\Akshay Kumar50.png',\n",
       "  './data/cropped/Akshay\\\\Akshay Kumar51.png',\n",
       "  './data/cropped/Akshay\\\\Akshay Kumar52.png',\n",
       "  './data/cropped/Akshay\\\\Akshay Kumar53.png',\n",
       "  './data/cropped/Akshay\\\\Akshay Kumar54.png',\n",
       "  './data/cropped/Akshay\\\\Akshay Kumar56.png',\n",
       "  './data/cropped/Akshay\\\\Akshay Kumar57.png',\n",
       "  './data/cropped/Akshay\\\\Akshay Kumar58.png',\n",
       "  './data/cropped/Akshay\\\\Akshay Kumar59.png',\n",
       "  './data/cropped/Akshay\\\\Akshay Kumar60.png'],\n",
       " 'Depika': ['./data/cropped/Depika\\\\Depika10.png',\n",
       "  './data/cropped/Depika\\\\Depika12.png',\n",
       "  './data/cropped/Depika\\\\Depika13.png',\n",
       "  './data/cropped/Depika\\\\Depika15.png',\n",
       "  './data/cropped/Depika\\\\Depika17.png',\n",
       "  './data/cropped/Depika\\\\Depika19.png',\n",
       "  './data/cropped/Depika\\\\Depika2.png',\n",
       "  './data/cropped/Depika\\\\Depika20.png',\n",
       "  './data/cropped/Depika\\\\Depika21.png',\n",
       "  './data/cropped/Depika\\\\Depika22.png',\n",
       "  './data/cropped/Depika\\\\Depika23.png',\n",
       "  './data/cropped/Depika\\\\Depika25.png',\n",
       "  './data/cropped/Depika\\\\Depika26.png',\n",
       "  './data/cropped/Depika\\\\Depika27.png',\n",
       "  './data/cropped/Depika\\\\Depika28.png',\n",
       "  './data/cropped/Depika\\\\Depika29.png',\n",
       "  './data/cropped/Depika\\\\Depika3.png',\n",
       "  './data/cropped/Depika\\\\Depika30.png',\n",
       "  './data/cropped/Depika\\\\Depika31.png',\n",
       "  './data/cropped/Depika\\\\Depika32.png',\n",
       "  './data/cropped/Depika\\\\Depika33.png',\n",
       "  './data/cropped/Depika\\\\Depika34.png',\n",
       "  './data/cropped/Depika\\\\Depika35.png',\n",
       "  './data/cropped/Depika\\\\Depika36.png',\n",
       "  './data/cropped/Depika\\\\Depika37.png',\n",
       "  './data/cropped/Depika\\\\Depika42.png',\n",
       "  './data/cropped/Depika\\\\Depika43.png',\n",
       "  './data/cropped/Depika\\\\Depika44.png',\n",
       "  './data/cropped/Depika\\\\Depika48.png',\n",
       "  './data/cropped/Depika\\\\Depika49.png',\n",
       "  './data/cropped/Depika\\\\Depika5.png',\n",
       "  './data/cropped/Depika\\\\Depika50.png',\n",
       "  './data/cropped/Depika\\\\Depika51.png',\n",
       "  './data/cropped/Depika\\\\Depika52.png',\n",
       "  './data/cropped/Depika\\\\Depika53.png',\n",
       "  './data/cropped/Depika\\\\Depika55.png',\n",
       "  './data/cropped/Depika\\\\Depika56.png',\n",
       "  './data/cropped/Depika\\\\Depika57.png',\n",
       "  './data/cropped/Depika\\\\Depika58.png',\n",
       "  './data/cropped/Depika\\\\Depika59.png',\n",
       "  './data/cropped/Depika\\\\Depika6.png',\n",
       "  './data/cropped/Depika\\\\Depika60.png',\n",
       "  './data/cropped/Depika\\\\Depika61.png',\n",
       "  './data/cropped/Depika\\\\Depika62.png',\n",
       "  './data/cropped/Depika\\\\Depika63.png',\n",
       "  './data/cropped/Depika\\\\Depika64.png',\n",
       "  './data/cropped/Depika\\\\Depika65.png',\n",
       "  './data/cropped/Depika\\\\Depika66.png',\n",
       "  './data/cropped/Depika\\\\Depika67.png',\n",
       "  './data/cropped/Depika\\\\Depika68.png',\n",
       "  './data/cropped/Depika\\\\Depika7.png',\n",
       "  './data/cropped/Depika\\\\Depika70.png',\n",
       "  './data/cropped/Depika\\\\Depika71.png',\n",
       "  './data/cropped/Depika\\\\Depika72.png',\n",
       "  './data/cropped/Depika\\\\Depika8.png',\n",
       "  './data/cropped/Depika\\\\Depika9.png'],\n",
       " 'kohli': ['./data/cropped/kohli\\\\kohli1.png',\n",
       "  './data/cropped/kohli\\\\kohli10.png',\n",
       "  './data/cropped/kohli\\\\kohli11.png',\n",
       "  './data/cropped/kohli\\\\kohli12.png',\n",
       "  './data/cropped/kohli\\\\kohli13.png',\n",
       "  './data/cropped/kohli\\\\kohli14.png',\n",
       "  './data/cropped/kohli\\\\kohli15.png',\n",
       "  './data/cropped/kohli\\\\kohli16.png',\n",
       "  './data/cropped/kohli\\\\kohli17.png',\n",
       "  './data/cropped/kohli\\\\kohli18.png',\n",
       "  './data/cropped/kohli\\\\kohli19.png',\n",
       "  './data/cropped/kohli\\\\kohli2.png',\n",
       "  './data/cropped/kohli\\\\kohli20.png',\n",
       "  './data/cropped/kohli\\\\kohli21.png',\n",
       "  './data/cropped/kohli\\\\kohli22.png',\n",
       "  './data/cropped/kohli\\\\kohli23.png',\n",
       "  './data/cropped/kohli\\\\kohli24.png',\n",
       "  './data/cropped/kohli\\\\kohli25.png',\n",
       "  './data/cropped/kohli\\\\kohli26.png',\n",
       "  './data/cropped/kohli\\\\kohli27.png',\n",
       "  './data/cropped/kohli\\\\kohli28.png',\n",
       "  './data/cropped/kohli\\\\kohli29.png',\n",
       "  './data/cropped/kohli\\\\kohli3.png',\n",
       "  './data/cropped/kohli\\\\kohli30.png',\n",
       "  './data/cropped/kohli\\\\kohli31.png',\n",
       "  './data/cropped/kohli\\\\kohli32.png',\n",
       "  './data/cropped/kohli\\\\kohli33.png',\n",
       "  './data/cropped/kohli\\\\kohli34.png',\n",
       "  './data/cropped/kohli\\\\kohli35.png',\n",
       "  './data/cropped/kohli\\\\kohli36.png',\n",
       "  './data/cropped/kohli\\\\kohli37.png',\n",
       "  './data/cropped/kohli\\\\kohli38.png',\n",
       "  './data/cropped/kohli\\\\kohli39.png',\n",
       "  './data/cropped/kohli\\\\kohli4.png',\n",
       "  './data/cropped/kohli\\\\kohli40.png',\n",
       "  './data/cropped/kohli\\\\kohli41.png',\n",
       "  './data/cropped/kohli\\\\kohli42.png',\n",
       "  './data/cropped/kohli\\\\kohli43.png',\n",
       "  './data/cropped/kohli\\\\kohli44.png',\n",
       "  './data/cropped/kohli\\\\kohli45.png',\n",
       "  './data/cropped/kohli\\\\kohli46.png',\n",
       "  './data/cropped/kohli\\\\kohli47.png',\n",
       "  './data/cropped/kohli\\\\kohli48.png',\n",
       "  './data/cropped/kohli\\\\kohli5.png',\n",
       "  './data/cropped/kohli\\\\kohli6.png',\n",
       "  './data/cropped/kohli\\\\kohli7.png',\n",
       "  './data/cropped/kohli\\\\kohli8.png',\n",
       "  './data/cropped/kohli\\\\kohli9.png'],\n",
       " 'messi': ['./data/cropped/messi\\\\messi1.png',\n",
       "  './data/cropped/messi\\\\messi10.png',\n",
       "  './data/cropped/messi\\\\messi11.png',\n",
       "  './data/cropped/messi\\\\messi12.png',\n",
       "  './data/cropped/messi\\\\messi13.png',\n",
       "  './data/cropped/messi\\\\messi14.png',\n",
       "  './data/cropped/messi\\\\messi15.png',\n",
       "  './data/cropped/messi\\\\messi16.png',\n",
       "  './data/cropped/messi\\\\messi17.png',\n",
       "  './data/cropped/messi\\\\messi18.png',\n",
       "  './data/cropped/messi\\\\messi19.png',\n",
       "  './data/cropped/messi\\\\messi2.png',\n",
       "  './data/cropped/messi\\\\messi20.png',\n",
       "  './data/cropped/messi\\\\messi21.png',\n",
       "  './data/cropped/messi\\\\messi22.png',\n",
       "  './data/cropped/messi\\\\messi23.png',\n",
       "  './data/cropped/messi\\\\messi24.png',\n",
       "  './data/cropped/messi\\\\messi25.png',\n",
       "  './data/cropped/messi\\\\messi26.png',\n",
       "  './data/cropped/messi\\\\messi27.png',\n",
       "  './data/cropped/messi\\\\messi28.png',\n",
       "  './data/cropped/messi\\\\messi29.png',\n",
       "  './data/cropped/messi\\\\messi3.png',\n",
       "  './data/cropped/messi\\\\messi30.png',\n",
       "  './data/cropped/messi\\\\messi31.png',\n",
       "  './data/cropped/messi\\\\messi32.png',\n",
       "  './data/cropped/messi\\\\messi33.png',\n",
       "  './data/cropped/messi\\\\messi34.png',\n",
       "  './data/cropped/messi\\\\messi35.png',\n",
       "  './data/cropped/messi\\\\messi36.png',\n",
       "  './data/cropped/messi\\\\messi37.png',\n",
       "  './data/cropped/messi\\\\messi38.png',\n",
       "  './data/cropped/messi\\\\messi39.png',\n",
       "  './data/cropped/messi\\\\messi4.png',\n",
       "  './data/cropped/messi\\\\messi5.png',\n",
       "  './data/cropped/messi\\\\messi6.png',\n",
       "  './data/cropped/messi\\\\messi7.png',\n",
       "  './data/cropped/messi\\\\messi8.png',\n",
       "  './data/cropped/messi\\\\messi9.png'],\n",
       " 'm_Sharapova': ['./data/cropped/m_Sharapova\\\\m_Sharapova1.png',\n",
       "  './data/cropped/m_Sharapova\\\\m_Sharapova10.png',\n",
       "  './data/cropped/m_Sharapova\\\\m_Sharapova11.png',\n",
       "  './data/cropped/m_Sharapova\\\\m_Sharapova12.png',\n",
       "  './data/cropped/m_Sharapova\\\\m_Sharapova13.png',\n",
       "  './data/cropped/m_Sharapova\\\\m_Sharapova14.png',\n",
       "  './data/cropped/m_Sharapova\\\\m_Sharapova15.png',\n",
       "  './data/cropped/m_Sharapova\\\\m_Sharapova16.png',\n",
       "  './data/cropped/m_Sharapova\\\\m_Sharapova17.png',\n",
       "  './data/cropped/m_Sharapova\\\\m_Sharapova18.png',\n",
       "  './data/cropped/m_Sharapova\\\\m_Sharapova19.png',\n",
       "  './data/cropped/m_Sharapova\\\\m_Sharapova2.png',\n",
       "  './data/cropped/m_Sharapova\\\\m_Sharapova20.png',\n",
       "  './data/cropped/m_Sharapova\\\\m_Sharapova21.png',\n",
       "  './data/cropped/m_Sharapova\\\\m_Sharapova22.png',\n",
       "  './data/cropped/m_Sharapova\\\\m_Sharapova23.png',\n",
       "  './data/cropped/m_Sharapova\\\\m_Sharapova24.png',\n",
       "  './data/cropped/m_Sharapova\\\\m_Sharapova25.png',\n",
       "  './data/cropped/m_Sharapova\\\\m_Sharapova26.png',\n",
       "  './data/cropped/m_Sharapova\\\\m_Sharapova27.png',\n",
       "  './data/cropped/m_Sharapova\\\\m_Sharapova28.png',\n",
       "  './data/cropped/m_Sharapova\\\\m_Sharapova29.png',\n",
       "  './data/cropped/m_Sharapova\\\\m_Sharapova3.png',\n",
       "  './data/cropped/m_Sharapova\\\\m_Sharapova30.png',\n",
       "  './data/cropped/m_Sharapova\\\\m_Sharapova31.png',\n",
       "  './data/cropped/m_Sharapova\\\\m_Sharapova32.png',\n",
       "  './data/cropped/m_Sharapova\\\\m_Sharapova33.png',\n",
       "  './data/cropped/m_Sharapova\\\\m_Sharapova34.png',\n",
       "  './data/cropped/m_Sharapova\\\\m_Sharapova35.png',\n",
       "  './data/cropped/m_Sharapova\\\\m_Sharapova4.png',\n",
       "  './data/cropped/m_Sharapova\\\\m_Sharapova5.png',\n",
       "  './data/cropped/m_Sharapova\\\\m_Sharapova6.png',\n",
       "  './data/cropped/m_Sharapova\\\\m_Sharapova7.png',\n",
       "  './data/cropped/m_Sharapova\\\\m_Sharapova8.png',\n",
       "  './data/cropped/m_Sharapova\\\\m_Sharapova9.png'],\n",
       " 'Nora': ['./data/cropped/Nora\\\\Nora Fatehi1.png',\n",
       "  './data/cropped/Nora\\\\Nora Fatehi10.png',\n",
       "  './data/cropped/Nora\\\\Nora Fatehi11.png',\n",
       "  './data/cropped/Nora\\\\Nora Fatehi12.png',\n",
       "  './data/cropped/Nora\\\\Nora Fatehi13.png',\n",
       "  './data/cropped/Nora\\\\Nora Fatehi14.png',\n",
       "  './data/cropped/Nora\\\\Nora Fatehi15.png',\n",
       "  './data/cropped/Nora\\\\Nora Fatehi16.png',\n",
       "  './data/cropped/Nora\\\\Nora Fatehi17.png',\n",
       "  './data/cropped/Nora\\\\Nora Fatehi18.png',\n",
       "  './data/cropped/Nora\\\\Nora Fatehi19.png',\n",
       "  './data/cropped/Nora\\\\Nora Fatehi2.png',\n",
       "  './data/cropped/Nora\\\\Nora Fatehi21.png',\n",
       "  './data/cropped/Nora\\\\Nora Fatehi22.png',\n",
       "  './data/cropped/Nora\\\\Nora Fatehi23.png',\n",
       "  './data/cropped/Nora\\\\Nora Fatehi24.png',\n",
       "  './data/cropped/Nora\\\\Nora Fatehi25.png',\n",
       "  './data/cropped/Nora\\\\Nora Fatehi26.png',\n",
       "  './data/cropped/Nora\\\\Nora Fatehi27.png',\n",
       "  './data/cropped/Nora\\\\Nora Fatehi29.png',\n",
       "  './data/cropped/Nora\\\\Nora Fatehi3.png',\n",
       "  './data/cropped/Nora\\\\Nora Fatehi30.png',\n",
       "  './data/cropped/Nora\\\\Nora Fatehi31.png',\n",
       "  './data/cropped/Nora\\\\Nora Fatehi32.png',\n",
       "  './data/cropped/Nora\\\\Nora Fatehi33.png',\n",
       "  './data/cropped/Nora\\\\Nora Fatehi34.png',\n",
       "  './data/cropped/Nora\\\\Nora Fatehi35.png',\n",
       "  './data/cropped/Nora\\\\Nora Fatehi37.png',\n",
       "  './data/cropped/Nora\\\\Nora Fatehi38.png',\n",
       "  './data/cropped/Nora\\\\Nora Fatehi39.png',\n",
       "  './data/cropped/Nora\\\\Nora Fatehi4.png',\n",
       "  './data/cropped/Nora\\\\Nora Fatehi40.png',\n",
       "  './data/cropped/Nora\\\\Nora Fatehi41.png',\n",
       "  './data/cropped/Nora\\\\Nora Fatehi42.png',\n",
       "  './data/cropped/Nora\\\\Nora Fatehi43.png',\n",
       "  './data/cropped/Nora\\\\Nora Fatehi45.png',\n",
       "  './data/cropped/Nora\\\\Nora Fatehi5.png',\n",
       "  './data/cropped/Nora\\\\Nora Fatehi6.png',\n",
       "  './data/cropped/Nora\\\\Nora Fatehi7.png',\n",
       "  './data/cropped/Nora\\\\Nora Fatehi8.png',\n",
       "  './data/cropped/Nora\\\\Nora Fatehi9.png'],\n",
       " 'Ranbir': ['./data/cropped/Ranbir\\\\Ranbir Kapoor10.png',\n",
       "  './data/cropped/Ranbir\\\\Ranbir Kapoor11.png',\n",
       "  './data/cropped/Ranbir\\\\Ranbir Kapoor12.png',\n",
       "  './data/cropped/Ranbir\\\\Ranbir Kapoor13.png',\n",
       "  './data/cropped/Ranbir\\\\Ranbir Kapoor14.png',\n",
       "  './data/cropped/Ranbir\\\\Ranbir Kapoor15.png',\n",
       "  './data/cropped/Ranbir\\\\Ranbir Kapoor16.png',\n",
       "  './data/cropped/Ranbir\\\\Ranbir Kapoor17.png',\n",
       "  './data/cropped/Ranbir\\\\Ranbir Kapoor19.png',\n",
       "  './data/cropped/Ranbir\\\\Ranbir Kapoor2.png',\n",
       "  './data/cropped/Ranbir\\\\Ranbir Kapoor20.png',\n",
       "  './data/cropped/Ranbir\\\\Ranbir Kapoor22.png',\n",
       "  './data/cropped/Ranbir\\\\Ranbir Kapoor23.png',\n",
       "  './data/cropped/Ranbir\\\\Ranbir Kapoor24.png',\n",
       "  './data/cropped/Ranbir\\\\Ranbir Kapoor25.png',\n",
       "  './data/cropped/Ranbir\\\\Ranbir Kapoor26.png',\n",
       "  './data/cropped/Ranbir\\\\Ranbir Kapoor28.png',\n",
       "  './data/cropped/Ranbir\\\\Ranbir Kapoor29.png',\n",
       "  './data/cropped/Ranbir\\\\Ranbir Kapoor3.png',\n",
       "  './data/cropped/Ranbir\\\\Ranbir Kapoor30.png',\n",
       "  './data/cropped/Ranbir\\\\Ranbir Kapoor31.png',\n",
       "  './data/cropped/Ranbir\\\\Ranbir Kapoor32.png',\n",
       "  './data/cropped/Ranbir\\\\Ranbir Kapoor33.png',\n",
       "  './data/cropped/Ranbir\\\\Ranbir Kapoor36.png',\n",
       "  './data/cropped/Ranbir\\\\Ranbir Kapoor37.png',\n",
       "  './data/cropped/Ranbir\\\\Ranbir Kapoor38.png',\n",
       "  './data/cropped/Ranbir\\\\Ranbir Kapoor4.png',\n",
       "  './data/cropped/Ranbir\\\\Ranbir Kapoor40.png',\n",
       "  './data/cropped/Ranbir\\\\Ranbir Kapoor41.png',\n",
       "  './data/cropped/Ranbir\\\\Ranbir Kapoor42.png',\n",
       "  './data/cropped/Ranbir\\\\Ranbir Kapoor43.png',\n",
       "  './data/cropped/Ranbir\\\\Ranbir Kapoor44.png',\n",
       "  './data/cropped/Ranbir\\\\Ranbir Kapoor45.png',\n",
       "  './data/cropped/Ranbir\\\\Ranbir Kapoor46.png',\n",
       "  './data/cropped/Ranbir\\\\Ranbir Kapoor47.png',\n",
       "  './data/cropped/Ranbir\\\\Ranbir Kapoor48.png',\n",
       "  './data/cropped/Ranbir\\\\Ranbir Kapoor49.png',\n",
       "  './data/cropped/Ranbir\\\\Ranbir Kapoor5.png',\n",
       "  './data/cropped/Ranbir\\\\Ranbir Kapoor50.png',\n",
       "  './data/cropped/Ranbir\\\\Ranbir Kapoor52.png',\n",
       "  './data/cropped/Ranbir\\\\Ranbir Kapoor55.png',\n",
       "  './data/cropped/Ranbir\\\\Ranbir Kapoor56.png',\n",
       "  './data/cropped/Ranbir\\\\Ranbir Kapoor57.png',\n",
       "  './data/cropped/Ranbir\\\\Ranbir Kapoor58.png',\n",
       "  './data/cropped/Ranbir\\\\Ranbir Kapoor59.png',\n",
       "  './data/cropped/Ranbir\\\\Ranbir Kapoor6.png',\n",
       "  './data/cropped/Ranbir\\\\Ranbir Kapoor60.png',\n",
       "  './data/cropped/Ranbir\\\\Ranbir Kapoor61.png',\n",
       "  './data/cropped/Ranbir\\\\Ranbir Kapoor63.png',\n",
       "  './data/cropped/Ranbir\\\\Ranbir Kapoor7.png',\n",
       "  './data/cropped/Ranbir\\\\Ranbir Kapoor8.png',\n",
       "  './data/cropped/Ranbir\\\\Ranbir Kapoor9.png'],\n",
       " 'Urvashi': ['./data/cropped/Urvashi\\\\Urvashi Rautela10.png',\n",
       "  './data/cropped/Urvashi\\\\Urvashi Rautela100.png',\n",
       "  './data/cropped/Urvashi\\\\Urvashi Rautela101.png',\n",
       "  './data/cropped/Urvashi\\\\Urvashi Rautela104.png',\n",
       "  './data/cropped/Urvashi\\\\Urvashi Rautela105.png',\n",
       "  './data/cropped/Urvashi\\\\Urvashi Rautela106.png',\n",
       "  './data/cropped/Urvashi\\\\Urvashi Rautela108.png',\n",
       "  './data/cropped/Urvashi\\\\Urvashi Rautela11.png',\n",
       "  './data/cropped/Urvashi\\\\Urvashi Rautela110.png',\n",
       "  './data/cropped/Urvashi\\\\Urvashi Rautela111.png',\n",
       "  './data/cropped/Urvashi\\\\Urvashi Rautela112.png',\n",
       "  './data/cropped/Urvashi\\\\Urvashi Rautela115.png',\n",
       "  './data/cropped/Urvashi\\\\Urvashi Rautela116.png',\n",
       "  './data/cropped/Urvashi\\\\Urvashi Rautela117.png',\n",
       "  './data/cropped/Urvashi\\\\Urvashi Rautela118.png',\n",
       "  './data/cropped/Urvashi\\\\Urvashi Rautela119.png',\n",
       "  './data/cropped/Urvashi\\\\Urvashi Rautela12.png',\n",
       "  './data/cropped/Urvashi\\\\Urvashi Rautela13.png',\n",
       "  './data/cropped/Urvashi\\\\Urvashi Rautela14.png',\n",
       "  './data/cropped/Urvashi\\\\Urvashi Rautela15.png',\n",
       "  './data/cropped/Urvashi\\\\Urvashi Rautela16.png',\n",
       "  './data/cropped/Urvashi\\\\Urvashi Rautela17.png',\n",
       "  './data/cropped/Urvashi\\\\Urvashi Rautela18.png',\n",
       "  './data/cropped/Urvashi\\\\Urvashi Rautela19.png',\n",
       "  './data/cropped/Urvashi\\\\Urvashi Rautela20.png',\n",
       "  './data/cropped/Urvashi\\\\Urvashi Rautela21.png',\n",
       "  './data/cropped/Urvashi\\\\Urvashi Rautela22.png',\n",
       "  './data/cropped/Urvashi\\\\Urvashi Rautela23.png',\n",
       "  './data/cropped/Urvashi\\\\Urvashi Rautela24.png',\n",
       "  './data/cropped/Urvashi\\\\Urvashi Rautela25.png',\n",
       "  './data/cropped/Urvashi\\\\Urvashi Rautela26.png',\n",
       "  './data/cropped/Urvashi\\\\Urvashi Rautela27.png',\n",
       "  './data/cropped/Urvashi\\\\Urvashi Rautela28.png',\n",
       "  './data/cropped/Urvashi\\\\Urvashi Rautela29.png',\n",
       "  './data/cropped/Urvashi\\\\Urvashi Rautela3.png',\n",
       "  './data/cropped/Urvashi\\\\Urvashi Rautela30.png',\n",
       "  './data/cropped/Urvashi\\\\Urvashi Rautela31.png',\n",
       "  './data/cropped/Urvashi\\\\Urvashi Rautela32.png',\n",
       "  './data/cropped/Urvashi\\\\Urvashi Rautela33.png',\n",
       "  './data/cropped/Urvashi\\\\Urvashi Rautela34.png',\n",
       "  './data/cropped/Urvashi\\\\Urvashi Rautela35.png',\n",
       "  './data/cropped/Urvashi\\\\Urvashi Rautela36.png',\n",
       "  './data/cropped/Urvashi\\\\Urvashi Rautela39.png',\n",
       "  './data/cropped/Urvashi\\\\Urvashi Rautela4.png',\n",
       "  './data/cropped/Urvashi\\\\Urvashi Rautela40.png',\n",
       "  './data/cropped/Urvashi\\\\Urvashi Rautela42.png',\n",
       "  './data/cropped/Urvashi\\\\Urvashi Rautela44.png',\n",
       "  './data/cropped/Urvashi\\\\Urvashi Rautela45.png',\n",
       "  './data/cropped/Urvashi\\\\Urvashi Rautela46.png',\n",
       "  './data/cropped/Urvashi\\\\Urvashi Rautela47.png',\n",
       "  './data/cropped/Urvashi\\\\Urvashi Rautela48.png',\n",
       "  './data/cropped/Urvashi\\\\Urvashi Rautela5.png',\n",
       "  './data/cropped/Urvashi\\\\Urvashi Rautela51.png',\n",
       "  './data/cropped/Urvashi\\\\Urvashi Rautela52.png',\n",
       "  './data/cropped/Urvashi\\\\Urvashi Rautela53.png',\n",
       "  './data/cropped/Urvashi\\\\Urvashi Rautela54.png',\n",
       "  './data/cropped/Urvashi\\\\Urvashi Rautela56.png',\n",
       "  './data/cropped/Urvashi\\\\Urvashi Rautela58.png',\n",
       "  './data/cropped/Urvashi\\\\Urvashi Rautela59.png',\n",
       "  './data/cropped/Urvashi\\\\Urvashi Rautela61.png',\n",
       "  './data/cropped/Urvashi\\\\Urvashi Rautela62.png',\n",
       "  './data/cropped/Urvashi\\\\Urvashi Rautela63.png',\n",
       "  './data/cropped/Urvashi\\\\Urvashi Rautela66.png',\n",
       "  './data/cropped/Urvashi\\\\Urvashi Rautela68.png',\n",
       "  './data/cropped/Urvashi\\\\Urvashi Rautela69.png',\n",
       "  './data/cropped/Urvashi\\\\Urvashi Rautela7.png',\n",
       "  './data/cropped/Urvashi\\\\Urvashi Rautela70.png',\n",
       "  './data/cropped/Urvashi\\\\Urvashi Rautela71.png',\n",
       "  './data/cropped/Urvashi\\\\Urvashi Rautela72.png',\n",
       "  './data/cropped/Urvashi\\\\Urvashi Rautela73.png',\n",
       "  './data/cropped/Urvashi\\\\Urvashi Rautela74.png',\n",
       "  './data/cropped/Urvashi\\\\Urvashi Rautela75.png',\n",
       "  './data/cropped/Urvashi\\\\Urvashi Rautela77.png',\n",
       "  './data/cropped/Urvashi\\\\Urvashi Rautela78.png',\n",
       "  './data/cropped/Urvashi\\\\Urvashi Rautela8.png',\n",
       "  './data/cropped/Urvashi\\\\Urvashi Rautela80.png',\n",
       "  './data/cropped/Urvashi\\\\Urvashi Rautela81.png',\n",
       "  './data/cropped/Urvashi\\\\Urvashi Rautela82.png',\n",
       "  './data/cropped/Urvashi\\\\Urvashi Rautela83.png',\n",
       "  './data/cropped/Urvashi\\\\Urvashi Rautela84.png',\n",
       "  './data/cropped/Urvashi\\\\Urvashi Rautela85.png',\n",
       "  './data/cropped/Urvashi\\\\Urvashi Rautela86.png',\n",
       "  './data/cropped/Urvashi\\\\Urvashi Rautela87.png',\n",
       "  './data/cropped/Urvashi\\\\Urvashi Rautela89.png',\n",
       "  './data/cropped/Urvashi\\\\Urvashi Rautela91.png',\n",
       "  './data/cropped/Urvashi\\\\Urvashi Rautela92.png',\n",
       "  './data/cropped/Urvashi\\\\Urvashi Rautela93.png',\n",
       "  './data/cropped/Urvashi\\\\Urvashi Rautela94.png',\n",
       "  './data/cropped/Urvashi\\\\Urvashi Rautela95.png',\n",
       "  './data/cropped/Urvashi\\\\Urvashi Rautela96.png',\n",
       "  './data/cropped/Urvashi\\\\Urvashi Rautela97.png',\n",
       "  './data/cropped/Urvashi\\\\Urvashi Rautela98.png',\n",
       "  './data/cropped/Urvashi\\\\Urvashi Rautela99.png']}"
      ]
     },
     "execution_count": 8,
     "metadata": {},
     "output_type": "execute_result"
    }
   ],
   "source": [
    "celebrity_file_names_dict = {}\n",
    "for img_dir in cropped_image_dirs:\n",
    "    celebrity_name = img_dir.split('/')[-1]\n",
    "    file_list = []\n",
    "    for entry in os.scandir(img_dir):\n",
    "        file_list.append(entry.path)\n",
    "    celebrity_file_names_dict[celebrity_name] = file_list\n",
    "celebrity_file_names_dict"
   ]
  },
  {
   "cell_type": "code",
   "execution_count": 9,
   "metadata": {},
   "outputs": [
    {
     "data": {
      "text/plain": [
       "{'Akshay': 0,\n",
       " 'Depika': 1,\n",
       " 'kohli': 2,\n",
       " 'messi': 3,\n",
       " 'm_Sharapova': 4,\n",
       " 'Nora': 5,\n",
       " 'Ranbir': 6,\n",
       " 'Urvashi': 7}"
      ]
     },
     "execution_count": 9,
     "metadata": {},
     "output_type": "execute_result"
    }
   ],
   "source": [
    "class_dict = {}\n",
    "count = 0\n",
    "for celebrity_name in celebrity_file_names_dict.keys():\n",
    "    class_dict[celebrity_name] = count\n",
    "    count = count + 1\n",
    "class_dict"
   ]
  },
  {
   "cell_type": "code",
   "execution_count": 10,
   "metadata": {},
   "outputs": [],
   "source": [
    "\n",
    "import numpy as np\n",
    "import pywt\n",
    "import cv2    \n",
    "\n",
    "def w2d(img, mode='haar', level=1):\n",
    "    imArray = img\n",
    "\n",
    "    imArray = cv2.cvtColor( imArray,cv2.COLOR_RGB2GRAY )\n",
    "    #convert to float\n",
    "    imArray =  np.float32(imArray)   \n",
    "    imArray /= 255;\n",
    "\n",
    "    coeffs=pywt.wavedec2(imArray, mode, level=level)\n",
    "\n",
    "\n",
    "    coeffs_H=list(coeffs)  \n",
    "    coeffs_H[0] *= 0;  \n",
    "\n",
    "    imArray_H=pywt.waverec2(coeffs_H, mode);\n",
    "    imArray_H *= 255;\n",
    "    imArray_H =  np.uint8(imArray_H)\n",
    "\n",
    "    return imArray_H"
   ]
  },
  {
   "cell_type": "code",
   "execution_count": 11,
   "metadata": {},
   "outputs": [],
   "source": [
    "X, y = [], []\n",
    "for celebrity_name, training_files in celebrity_file_names_dict.items():\n",
    "    for training_image in training_files:\n",
    "        img = cv2.imread(training_image)\n",
    "        scalled_raw_img = cv2.resize(img, (32, 32))\n",
    "        img_har = w2d(img,'db1',5)\n",
    "        scalled_img_har = cv2.resize(img_har, (32, 32))\n",
    "        combined_img = np.vstack((scalled_raw_img.reshape(32*32*3,1),scalled_img_har.reshape(32*32,1)))\n",
    "        X.append(combined_img)\n",
    "        y.append(class_dict[celebrity_name])"
   ]
  },
  {
   "cell_type": "code",
   "execution_count": 12,
   "metadata": {},
   "outputs": [
    {
     "data": {
      "text/plain": [
       "(413, 4096)"
      ]
     },
     "execution_count": 12,
     "metadata": {},
     "output_type": "execute_result"
    }
   ],
   "source": [
    "X = np.array(X).reshape(len(X),4096).astype(float)\n",
    "X.shape"
   ]
  },
  {
   "cell_type": "code",
   "execution_count": 13,
   "metadata": {},
   "outputs": [
    {
     "data": {
      "text/plain": [
       "{'Akshay': 0,\n",
       " 'Depika': 1,\n",
       " 'kohli': 2,\n",
       " 'messi': 3,\n",
       " 'm_Sharapova': 4,\n",
       " 'Nora': 5,\n",
       " 'Ranbir': 6,\n",
       " 'Urvashi': 7}"
      ]
     },
     "execution_count": 13,
     "metadata": {},
     "output_type": "execute_result"
    }
   ],
   "source": [
    "class_dict"
   ]
  },
  {
   "cell_type": "code",
   "execution_count": 14,
   "metadata": {},
   "outputs": [
    {
     "data": {
      "text/plain": [
       "Counter({0: 49, 1: 56, 2: 48, 3: 39, 4: 35, 5: 41, 6: 52, 7: 93})"
      ]
     },
     "execution_count": 14,
     "metadata": {},
     "output_type": "execute_result"
    }
   ],
   "source": [
    "from collections import Counter\n",
    "Counter(y)"
   ]
  },
  {
   "cell_type": "markdown",
   "metadata": {},
   "source": [
    "# Modeling"
   ]
  },
  {
   "cell_type": "code",
   "execution_count": 15,
   "metadata": {},
   "outputs": [],
   "source": [
    "from sklearn.preprocessing import StandardScaler\n",
    "X = StandardScaler().fit(X).transform(X)"
   ]
  },
  {
   "cell_type": "code",
   "execution_count": 16,
   "metadata": {},
   "outputs": [],
   "source": [
    "from sklearn.model_selection import train_test_split\n",
    "\n",
    "X_train, X_test, y_train, y_test = train_test_split(X,y, test_size=0.2, random_state=10)\n"
   ]
  },
  {
   "cell_type": "code",
   "execution_count": 17,
   "metadata": {},
   "outputs": [],
   "source": [
    "\n",
    "from sklearn.naive_bayes import GaussianNB\n",
    "\n",
    "from sklearn.ensemble import RandomForestClassifier, AdaBoostClassifier\n",
    "from sklearn.tree import DecisionTreeClassifier\n",
    "from sklearn.svm import SVC\n",
    "from sklearn.neighbors import KNeighborsClassifier\n",
    "\n",
    "from sklearn.linear_model import LogisticRegression\n",
    "from sklearn.model_selection import cross_val_score\n",
    "from xgboost import XGBClassifier\n",
    "from sklearn.model_selection import GridSearchCV\n"
   ]
  },
  {
   "cell_type": "markdown",
   "metadata": {},
   "source": [
    "## Hyper Parameter Tunning"
   ]
  },
  {
   "cell_type": "code",
   "execution_count": 18,
   "metadata": {},
   "outputs": [],
   "source": [
    "scores=[]\n",
    "best_estimators = {}\n",
    "\n",
    "\n",
    "model_params = {  \n",
    "\n",
    "    \n",
    "    'KNeighborsClassifier': {\n",
    "        'model': KNeighborsClassifier(),\n",
    "        'params': {\n",
    "            'n_neighbors': [2,3,4,5,6,7,18,19,20,21,22,23,24],\n",
    "            'algorithm' : ['auto','ball_tree','kd_tree'],\n",
    "            'weights' : ['uniform','distance'],\n",
    "            'leaf_size' : [27,28,29,30,31,32,33,34,35]\n",
    "        }\n",
    "    },\n",
    "    \n",
    "    'DecisionTreeClassifier': {\n",
    "        'model': DecisionTreeClassifier(),\n",
    "        'params': {\n",
    "            'criterion': ['gini','entropy'],\n",
    "            'max_depth' : [None,1,2,6,5,4,3]\n",
    "        }\n",
    "    },\n",
    "    \n",
    "    \n",
    "    'AdaBoostClassifier': {\n",
    "        'model': AdaBoostClassifier(),\n",
    "        'params': {\n",
    "            'n_estimators': [30,35,40,45,50,55,58,60,65,70],\n",
    "            'learning_rate' : [0.8,0.9,1,1.1,1.2,1.3,1.4,1.5,2],\n",
    "            'algorithm' : ['SAMME', 'SAMME.R']\n",
    "        }\n",
    "    },\n",
    "    \n",
    "    'GaussianNB': {\n",
    "        'model': GaussianNB(),\n",
    "        'params': {\n",
    "            \n",
    "        }\n",
    "    },\n",
    "    \n",
    "     'LOGISTIC_REGRESSION': {\n",
    "        'model': LogisticRegression(),\n",
    "        'params': {\n",
    "            'C': [1,2,3,4,5,6,7,8,9,10],\n",
    "            'solver' : [ 'liblinear', 'lbfgs'],\n",
    "            'multi_class' : ['auto', 'ovr' ]\n",
    "        }\n",
    "    },\n",
    "    \n",
    "        \n",
    "    'SVM': {\n",
    "        'model': SVC(),\n",
    "        'params': {\n",
    "             'C': [1,2,3,5,6,7],\n",
    "             'kernel': ['rbf','linear'],\n",
    "             'gamma': ['auto', 'scale']\n",
    "        }\n",
    "    },\n",
    "       \n",
    "    'RANDOM_FOREST':{\n",
    "        'model' : RandomForestClassifier(),\n",
    "        'params': {\n",
    "            'n_estimators':[1,2,3,4,5,10,15,20,25,30],\n",
    "            'criterion': ['entropy'],\n",
    "            'random_state' : [11,12,13],\n",
    "            'max_depth' : [4,5,6]\n",
    "\n",
    "        }\n",
    "    }\n",
    "}"
   ]
  },
  {
   "cell_type": "code",
   "execution_count": 19,
   "metadata": {},
   "outputs": [
    {
     "name": "stdout",
     "output_type": "stream",
     "text": [
      "LogisticRegression(C=1.0, class_weight=None, dual=False, fit_intercept=True,\n",
      "                   intercept_scaling=1, l1_ratio=None, max_iter=500,\n",
      "                   multi_class='auto', n_jobs=None, penalty='l2',\n",
      "                   random_state=None, solver='lbfgs', tol=0.0001, verbose=0,\n",
      "                   warm_start=False) {'C': [1, 5, 10], 'solver': ['liblinear', 'lbfgs'], 'multi_class': ['auto', 'ovr']}\n",
      "2.2964407642682394 minutes\n",
      "SVC(C=1.0, break_ties=False, cache_size=200, class_weight=None, coef0=0.0,\n",
      "    decision_function_shape='ovr', degree=3, gamma='scale', kernel='rbf',\n",
      "    max_iter=-1, probability=False, random_state=None, shrinking=True,\n",
      "    tol=0.001, verbose=False) {'C': [1, 50, 100], 'kernel': ['rbf', 'linear'], 'gamma': ['auto', 'scale']}\n",
      "0.4627497633298238 minutes\n",
      "RandomForestClassifier(bootstrap=True, ccp_alpha=0.0, class_weight=None,\n",
      "                       criterion='gini', max_depth=None, max_features='auto',\n",
      "                       max_leaf_nodes=None, max_samples=None,\n",
      "                       min_impurity_decrease=0.0, min_impurity_split=None,\n",
      "                       min_samples_leaf=1, min_samples_split=2,\n",
      "                       min_weight_fraction_leaf=0.0, n_estimators=100,\n",
      "                       n_jobs=None, oob_score=False, random_state=None,\n",
      "                       verbose=0, warm_start=False) {'n_estimators': [70, 75, 90], 'criterion': ['entropy']}\n",
      "0.25473674535751345 minutes\n"
     ]
    }
   ],
   "source": [
    "import time\n",
    "\n",
    "\n",
    "for model_name, mp in model_params.items():\n",
    "    clf = GridSearchCV(mp['model'], mp['params'], cv=5, return_train_score=False)\n",
    "    print(mp['model'], mp['params'])\n",
    "    start_time = time.time()\n",
    "    \n",
    "    clf.fit(X_train, y_train)    \n",
    "    \n",
    "\n",
    "    scores.append({\n",
    "        'model': model_name,\n",
    "        'best_score': clf.best_score_,\n",
    "        'best_params': str(clf.best_params_)\n",
    "    })\n",
    "    best_estimators[model_name] = clf.best_estimator_\n",
    "    print('{} minutes'.format((time.time() - start_time)/60))\n",
    "\n"
   ]
  },
  {
   "cell_type": "code",
   "execution_count": 20,
   "metadata": {},
   "outputs": [
    {
     "data": {
      "text/html": [
       "<div>\n",
       "<style scoped>\n",
       "    .dataframe tbody tr th:only-of-type {\n",
       "        vertical-align: middle;\n",
       "    }\n",
       "\n",
       "    .dataframe tbody tr th {\n",
       "        vertical-align: top;\n",
       "    }\n",
       "\n",
       "    .dataframe thead th {\n",
       "        text-align: right;\n",
       "    }\n",
       "</style>\n",
       "<table border=\"1\" class=\"dataframe\">\n",
       "  <thead>\n",
       "    <tr style=\"text-align: right;\">\n",
       "      <th></th>\n",
       "      <th>model</th>\n",
       "      <th>best_score</th>\n",
       "      <th>best_params</th>\n",
       "    </tr>\n",
       "  </thead>\n",
       "  <tbody>\n",
       "    <tr>\n",
       "      <th>0</th>\n",
       "      <td>LOGISTIC_REGRESSION</td>\n",
       "      <td>0.748485</td>\n",
       "      <td>{'C': 1, 'multi_class': 'ovr', 'solver': 'lbfgs'}</td>\n",
       "    </tr>\n",
       "    <tr>\n",
       "      <th>1</th>\n",
       "      <td>SVM</td>\n",
       "      <td>0.736364</td>\n",
       "      <td>{'C': 1, 'gamma': 'auto', 'kernel': 'linear'}</td>\n",
       "    </tr>\n",
       "    <tr>\n",
       "      <th>2</th>\n",
       "      <td>RANDOM_FOREST</td>\n",
       "      <td>0.624242</td>\n",
       "      <td>{'criterion': 'entropy', 'n_estimators': 70}</td>\n",
       "    </tr>\n",
       "  </tbody>\n",
       "</table>\n",
       "</div>"
      ],
      "text/plain": [
       "                 model  best_score  \\\n",
       "0  LOGISTIC_REGRESSION    0.748485   \n",
       "1                  SVM    0.736364   \n",
       "2        RANDOM_FOREST    0.624242   \n",
       "\n",
       "                                         best_params  \n",
       "0  {'C': 1, 'multi_class': 'ovr', 'solver': 'lbfgs'}  \n",
       "1      {'C': 1, 'gamma': 'auto', 'kernel': 'linear'}  \n",
       "2       {'criterion': 'entropy', 'n_estimators': 70}  "
      ]
     },
     "execution_count": 20,
     "metadata": {},
     "output_type": "execute_result"
    }
   ],
   "source": [
    "import pandas as pd    \n",
    "df = pd.DataFrame(scores,columns=['model','best_score','best_params'])\n",
    "df = df.sort_values(by='best_score',ascending=False)\n",
    "df"
   ]
  },
  {
   "cell_type": "code",
   "execution_count": null,
   "metadata": {},
   "outputs": [],
   "source": [
    "df2.best_params[0]"
   ]
  },
  {
   "cell_type": "markdown",
   "metadata": {},
   "source": [
    " ## Evaluation"
   ]
  },
  {
   "cell_type": "code",
   "execution_count": 21,
   "metadata": {},
   "outputs": [
    {
     "data": {
      "text/plain": [
       "0.7831325301204819"
      ]
     },
     "execution_count": 21,
     "metadata": {},
     "output_type": "execute_result"
    }
   ],
   "source": [
    "best_estimators['LOGISTIC_REGRESSION'].score(X_test,y_test)"
   ]
  },
  {
   "cell_type": "code",
   "execution_count": 22,
   "metadata": {},
   "outputs": [
    {
     "data": {
      "text/plain": [
       "0.7710843373493976"
      ]
     },
     "execution_count": 22,
     "metadata": {},
     "output_type": "execute_result"
    }
   ],
   "source": [
    "best_estimators['SVM'].score(X_test,y_test)"
   ]
  },
  {
   "cell_type": "code",
   "execution_count": 23,
   "metadata": {},
   "outputs": [
    {
     "data": {
      "text/plain": [
       "0.6626506024096386"
      ]
     },
     "execution_count": 23,
     "metadata": {},
     "output_type": "execute_result"
    }
   ],
   "source": [
    "best_estimators['RANDOM_FOREST'].score(X_test,y_test)"
   ]
  },
  {
   "cell_type": "code",
   "execution_count": null,
   "metadata": {},
   "outputs": [],
   "source": [
    "cross_val_score(best_estimators['RANDOM_FOREST'],X_test,y_test,cv=5).mean()"
   ]
  },
  {
   "cell_type": "code",
   "execution_count": null,
   "metadata": {},
   "outputs": [],
   "source": [
    "cross_val_score(best_estimators['KNeighborsClassifier'],X_test,y_test,cv=5).mean()"
   ]
  },
  {
   "cell_type": "code",
   "execution_count": null,
   "metadata": {},
   "outputs": [],
   "source": [
    "cross_val_score(best_estimators['GaussianNB'],X_test,y_test,cv=5).mean()"
   ]
  },
  {
   "cell_type": "code",
   "execution_count": null,
   "metadata": {},
   "outputs": [],
   "source": [
    "cross_val_score(best_estimators['DecisionTreeClassifier'],X_test,y_test,cv=5).mean()"
   ]
  },
  {
   "cell_type": "code",
   "execution_count": null,
   "metadata": {},
   "outputs": [],
   "source": [
    "cross_val_score(best_estimators['SVM'],X_test,y_test,cv=5).mean()"
   ]
  },
  {
   "cell_type": "code",
   "execution_count": null,
   "metadata": {},
   "outputs": [],
   "source": [
    "cross_val_score(best_estimators['LOGISTIC_REGRESSION'],X_test,y_test,cv=5).mean()"
   ]
  },
  {
   "cell_type": "code",
   "execution_count": null,
   "metadata": {},
   "outputs": [],
   "source": [
    "cross_val_score(best_estimators['AdaBoostClassifier'],X_test,y_test,cv=5).mean()"
   ]
  },
  {
   "cell_type": "code",
   "execution_count": null,
   "metadata": {},
   "outputs": [],
   "source": [
    "\n",
    "lr_false_positive_rate,lr_true_positive_rate,lr_threshold = metrics.roc_curve(y_test,best_estimators['LOGISTIC_REGRESSION'].predict(X_test))\n",
    "nb_false_positive_rate,nb_true_positive_rate,nb_threshold = metrics.roc_curve(y_test,best_estimators['GaussianNB'].predict(X_test))\n",
    "rf_false_positive_rate,rf_true_positive_rate,rf_threshold = metrics.roc_curve(y_test,best_estimators['RANDOM_FOREST'].predict(X_test))                                                             \n",
    "# xgb_false_positive_rate,xgb_true_positive_rate,xgb_threshold = metrics.roc_curve(y_test,best_estimators['XGBoost'].predict(X_test))\n",
    "knn_false_positive_rate,knn_true_positive_rate,knn_threshold = metrics.roc_curve(y_test,best_estimators['KNeighborsClassifier'].predict(X_test))\n",
    "dt_false_positive_rate,dt_true_positive_rate,dt_threshold = metrics.roc_curve(y_test,best_estimators['DecisionTreeClassifier'].predict(X_test))\n",
    "svc_false_positive_rate,svc_true_positive_rate,svc_threshold = metrics.roc_curve(y_test,best_estimators['SVM'].predict(X_test))\n",
    "ada_false_positive_rate,ada_true_positive_rate,ada_threshold = metrics.roc_curve(y_test,best_estimators['AdaBoostClassifier'].predict(X_test))\n",
    "\n",
    "\n",
    "sns.set_style('whitegrid')\n",
    "plt.figure(figsize=(10,5))\n",
    "plt.title('Reciver Operating Characterstic Curve')\n",
    "\n",
    "plt.plot(rf_false_positive_rate,rf_true_positive_rate,label='Random Forest')\n",
    "plt.plot(lr_false_positive_rate,lr_true_positive_rate,label='Logistic Regression')\n",
    "plt.plot(nb_false_positive_rate,nb_true_positive_rate,label='Naive Bayes')\n",
    "# plt.plot(xgb_false_positive_rate,xgb_true_positive_rate,label='Extreme Gradient Boost')\n",
    "plt.plot(knn_false_positive_rate,knn_true_positive_rate,label='K-Nearest Neighbor')\n",
    "plt.plot(dt_false_positive_rate,dt_true_positive_rate,label='Desion Tree')\n",
    "plt.plot(svc_false_positive_rate,svc_true_positive_rate,label='Support Vector Classifier')\n",
    "plt.plot(ada_false_positive_rate,ada_true_positive_rate,label='AdaBoost Classifier')\n",
    "plt.plot([0,1],ls='--')\n",
    "plt.plot([0,0],[1,0],c='.5')\n",
    "plt.plot([1,1],c='.5')\n",
    "plt.ylabel('True positive rate')\n",
    "plt.xlabel('False positive rate')\n",
    "plt.legend()\n",
    "plt.show()"
   ]
  },
  {
   "cell_type": "code",
   "execution_count": 27,
   "metadata": {},
   "outputs": [
    {
     "data": {
      "text/plain": [
       "LogisticRegression(C=1, class_weight=None, dual=False, fit_intercept=True,\n",
       "                   intercept_scaling=1, l1_ratio=None, max_iter=500,\n",
       "                   multi_class='ovr', n_jobs=None, penalty='l2',\n",
       "                   random_state=None, solver='lbfgs', tol=0.0001, verbose=0,\n",
       "                   warm_start=False)"
      ]
     },
     "execution_count": 27,
     "metadata": {},
     "output_type": "execute_result"
    }
   ],
   "source": [
    "#who ever performs best \n",
    "\n",
    "best_clf = best_estimators['LOGISTIC_REGRESSION']\n",
    "best_clf"
   ]
  },
  {
   "cell_type": "code",
   "execution_count": 28,
   "metadata": {},
   "outputs": [
    {
     "name": "stdout",
     "output_type": "stream",
     "text": [
      "              precision    recall  f1-score   support\n",
      "\n",
      "           0       0.86      0.75      0.80         8\n",
      "           1       0.86      0.80      0.83        15\n",
      "           2       0.78      0.78      0.78         9\n",
      "           3       0.83      0.62      0.71         8\n",
      "           4       0.83      0.83      0.83         6\n",
      "           5       0.70      0.78      0.74         9\n",
      "           6       1.00      0.73      0.84        11\n",
      "           7       0.65      0.88      0.75        17\n",
      "\n",
      "    accuracy                           0.78        83\n",
      "   macro avg       0.81      0.77      0.79        83\n",
      "weighted avg       0.80      0.78      0.79        83\n",
      "\n"
     ]
    }
   ],
   "source": [
    "from sklearn.metrics import classification_report\n",
    "print(classification_report(y_test,best_clf.predict(X_test)))"
   ]
  },
  {
   "cell_type": "code",
   "execution_count": 29,
   "metadata": {},
   "outputs": [
    {
     "data": {
      "text/plain": [
       "array([[ 6,  0,  0,  1,  0,  0,  0,  1],\n",
       "       [ 0, 12,  0,  0,  1,  1,  0,  1],\n",
       "       [ 0,  0,  7,  0,  0,  0,  0,  2],\n",
       "       [ 0,  0,  1,  5,  0,  1,  0,  1],\n",
       "       [ 0,  0,  0,  0,  5,  1,  0,  0],\n",
       "       [ 0,  0,  0,  0,  0,  7,  0,  2],\n",
       "       [ 1,  0,  1,  0,  0,  0,  8,  1],\n",
       "       [ 0,  2,  0,  0,  0,  0,  0, 15]], dtype=int64)"
      ]
     },
     "execution_count": 29,
     "metadata": {},
     "output_type": "execute_result"
    }
   ],
   "source": [
    "from sklearn.metrics import confusion_matrix\n",
    "cm = confusion_matrix(y_test, best_clf.predict(X_test))\n",
    "cm"
   ]
  },
  {
   "cell_type": "code",
   "execution_count": 31,
   "metadata": {},
   "outputs": [
    {
     "data": {
      "image/png": "[encoded data removed]",
      "text/plain": [
       "<Figure size 576x576 with 2 Axes>"
      ]
     },
     "metadata": {
      "needs_background": "light"
     },
     "output_type": "display_data"
    }
   ],
   "source": [
    "\n",
    "import seaborn as sns \n",
    "fig, ax = plt.subplots(figsize=(8,8))\n",
    "\n",
    "g = sns.heatmap(cm,annot=True,ax=ax)\n",
    "g.set_yticklabels(g.get_yticklabels(), rotation = 0, fontsize = 12)\n",
    "g.set_xticklabels(g.get_xticklabels(), rotation = 90, fontsize = 12)\n",
    "ax.xaxis.set_ticklabels(class_dict.keys()); ax.yaxis.set_ticklabels(class_dict.keys());\n",
    "ax.set_xlabel('Predicted labels');ax.set_ylabel('True labels'); \n"
   ]
  },
  {
   "cell_type": "code",
   "execution_count": 32,
   "metadata": {},
   "outputs": [
    {
     "data": {
      "text/plain": [
       "{'Akshay': 0,\n",
       " 'Depika': 1,\n",
       " 'kohli': 2,\n",
       " 'messi': 3,\n",
       " 'm_Sharapova': 4,\n",
       " 'Nora': 5,\n",
       " 'Ranbir': 6,\n",
       " 'Urvashi': 7}"
      ]
     },
     "execution_count": 32,
     "metadata": {},
     "output_type": "execute_result"
    }
   ],
   "source": [
    "class_dict"
   ]
  },
  {
   "cell_type": "markdown",
   "metadata": {},
   "source": [
    "## Save Model"
   ]
  },
  {
   "cell_type": "code",
   "execution_count": 33,
   "metadata": {},
   "outputs": [],
   "source": [
    "lr = LogisticRegression(C=1, class_weight=None, dual=False, fit_intercept=True,\n",
    "                   intercept_scaling=1, l1_ratio=None, max_iter=500,\n",
    "                   multi_class='ovr', n_jobs=None, penalty='l2',\n",
    "                   random_state=None, solver='lbfgs', tol=0.0001, verbose=0,\n",
    "                   warm_start=False)"
   ]
  },
  {
   "cell_type": "code",
   "execution_count": 34,
   "metadata": {},
   "outputs": [
    {
     "data": {
      "text/plain": [
       "LogisticRegression(C=1, class_weight=None, dual=False, fit_intercept=True,\n",
       "                   intercept_scaling=1, l1_ratio=None, max_iter=500,\n",
       "                   multi_class='ovr', n_jobs=None, penalty='l2',\n",
       "                   random_state=None, solver='lbfgs', tol=0.0001, verbose=0,\n",
       "                   warm_start=False)"
      ]
     },
     "execution_count": 34,
     "metadata": {},
     "output_type": "execute_result"
    }
   ],
   "source": [
    "lr.fit(X,y)"
   ]
  },
  {
   "cell_type": "code",
   "execution_count": 35,
   "metadata": {},
   "outputs": [
    {
     "data": {
      "text/plain": [
       "['saved_model.pkl']"
      ]
     },
     "execution_count": 35,
     "metadata": {},
     "output_type": "execute_result"
    }
   ],
   "source": [
    "import joblib\n",
    "joblib.dump(lr, 'saved_model.pkl')"
   ]
  },
  {
   "cell_type": "markdown",
   "metadata": {},
   "source": [
    "## Save Labels"
   ]
  },
  {
   "cell_type": "code",
   "execution_count": 36,
   "metadata": {},
   "outputs": [],
   "source": [
    "\n",
    "import json\n",
    "with open(\"class_dictionary.json\",\"w\") as f:\n",
    "    f.write(json.dumps(class_dict))"
   ]
  }
 ],
 "metadata": {
  "kernelspec": {
   "display_name": "Python 3",
   "language": "python",
   "name": "python3"
  },
  "language_info": {
   "codemirror_mode": {
    "name": "ipython",
    "version": 3
   },
   "file_extension": ".py",
   "mimetype": "text/x-python",
   "name": "python",
   "nbconvert_exporter": "python",
   "pygments_lexer": "ipython3",
   "version": "3.7.6"
  }
 },
 "nbformat": 4,
 "nbformat_minor": 4
}
